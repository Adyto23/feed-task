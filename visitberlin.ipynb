{
 "cells": [
  {
   "cell_type": "code",
   "execution_count": 2,
   "metadata": {},
   "outputs": [],
   "source": [
    "import requests\n",
    "from bs4 import BeautifulSoup\n",
    "import pandas as pd\n",
    "import numpy as np"
   ]
  },
  {
   "cell_type": "code",
   "execution_count": 1,
   "metadata": {},
   "outputs": [],
   "source": [
    "url = \"https://www.visitberlin.de/en/event-calendar-berlin\""
   ]
  },
  {
   "cell_type": "code",
   "execution_count": 3,
   "metadata": {},
   "outputs": [
    {
     "data": {
      "text/plain": [
       "200"
      ]
     },
     "execution_count": 3,
     "metadata": {},
     "output_type": "execute_result"
    }
   ],
   "source": [
    "response = requests.get(url)\n",
    "response.status_code"
   ]
  },
  {
   "cell_type": "code",
   "execution_count": 4,
   "metadata": {},
   "outputs": [],
   "source": [
    "soup = BeautifulSoup(response.content, \"html.parser\")\n",
    "\n",
    "# title , location , date , hour and link"
   ]
  },
  {
   "cell_type": "code",
   "execution_count": 8,
   "metadata": {},
   "outputs": [
    {
     "data": {
      "text/plain": [
       "'Käthe Kruse'"
      ]
     },
     "execution_count": 8,
     "metadata": {},
     "output_type": "execute_result"
    }
   ],
   "source": [
    "soup.select('div.teaser-search__content > h2 > span')[0].get_text()\n",
    "\n",
    "## title \n"
   ]
  },
  {
   "cell_type": "code",
   "execution_count": 9,
   "metadata": {},
   "outputs": [
    {
     "data": {
      "text/plain": [
       "'koenigliche Backstube'"
      ]
     },
     "execution_count": 9,
     "metadata": {},
     "output_type": "execute_result"
    }
   ],
   "source": [
    "soup.select('p.teaser-search__location.me > span.me__content > span:nth-child(1)')[0].get_text()\n",
    "\n",
    "## location "
   ]
  },
  {
   "cell_type": "code",
   "execution_count": 10,
   "metadata": {},
   "outputs": [
    {
     "data": {
      "text/plain": [
       "'Contemporary Art'"
      ]
     },
     "execution_count": 10,
     "metadata": {},
     "output_type": "execute_result"
    }
   ],
   "source": [
    "soup.select('div.teaser-search__meta > ul > li:nth-child(1) > a')[0].get_text()\n",
    "\n",
    "## description "
   ]
  },
  {
   "cell_type": "code",
   "execution_count": 17,
   "metadata": {},
   "outputs": [
    {
     "data": {
      "text/plain": [
       "'\\n13/05/2023\\n                          – 02/09/2023\\n'"
      ]
     },
     "execution_count": 17,
     "metadata": {},
     "output_type": "execute_result"
    }
   ],
   "source": [
    "soup.select(' p.teaser-search__date > span > span')[0].get_text()\n",
    "\n",
    "## date "
   ]
  },
  {
   "cell_type": "code",
   "execution_count": 18,
   "metadata": {},
   "outputs": [
    {
     "data": {
      "text/plain": [
       "'\\n                    08:30 am\\n              '"
      ]
     },
     "execution_count": 18,
     "metadata": {},
     "output_type": "execute_result"
    }
   ],
   "source": [
    "soup.select('p.teaser-search__time.me > span.me__content')[0].get_text()\n",
    "\n",
    "## hour \n"
   ]
  },
  {
   "cell_type": "code",
   "execution_count": 20,
   "metadata": {},
   "outputs": [
    {
     "data": {
      "text/plain": [
       "'Art'"
      ]
     },
     "execution_count": 20,
     "metadata": {},
     "output_type": "execute_result"
    }
   ],
   "source": [
    "soup.select('div.teaser-search__category > a')[0].get_text()\n",
    "\n",
    "## cat "
   ]
  },
  {
   "cell_type": "code",
   "execution_count": 22,
   "metadata": {},
   "outputs": [
    {
     "data": {
      "text/plain": [
       "'\\n      https://kati-gausmann.de/einszueins/\\n    '"
      ]
     },
     "execution_count": 22,
     "metadata": {},
     "output_type": "execute_result"
    }
   ],
   "source": [
    "soup.select('div.teaser-search__meta > p.teaser-search__print-link.teaser-search__print-info')[0].get_text()\n",
    "\n",
    "## Link"
   ]
  },
  {
   "cell_type": "code",
   "execution_count": 9,
   "metadata": {},
   "outputs": [],
   "source": [
    "#e0 > div > div.col-md-2.image > a"
   ]
  },
  {
   "cell_type": "code",
   "execution_count": null,
   "metadata": {},
   "outputs": [],
   "source": [
    "#e0 > div > div.col-md-2.image > a"
   ]
  },
  {
   "cell_type": "code",
   "execution_count": null,
   "metadata": {},
   "outputs": [],
   "source": []
  },
  {
   "cell_type": "code",
   "execution_count": 24,
   "metadata": {},
   "outputs": [
    {
     "name": "stdout",
     "output_type": "stream",
     "text": [
      "                                                Title  \\\n",
      "0                                         Käthe Kruse   \n",
      "1     Climate Change - Views and Insights from Africa   \n",
      "2            From August at the Chameleon: The Mirror   \n",
      "3      DDR Museum - A JOURNEY THROUGH TIME IN THE DDR   \n",
      "4                                    DINOWORLD BERLIN   \n",
      "5                               DeJa Vu Museum Berlin   \n",
      "6                            Everyday life in the GDR   \n",
      "7   GHOSTS WITH MURAT HASCHU: JOANNA STINGRAY SAYS...   \n",
      "8                  Fack Ju Göhte - The Musical Comedy   \n",
      "9   Historical workshop meets robot at the German ...   \n",
      "10               HORIZON: Installation for a building   \n",
      "11                  Genesis - An Immersive Light Show   \n",
      "12                                       Liam Gillick   \n",
      "13                    LOUISE NEVELSON & GEORGE RICKEY   \n",
      "\n",
      "                                      Location              Category  \\\n",
      "0                        koenigliche Backstube                   Art   \n",
      "1                               Heilandskirche                   Art   \n",
      "2   Chamäleon Theater(in den Hackeschen Höfen)                  Show   \n",
      "3                            DDR Museum Berlin               History   \n",
      "4                              Tierpark Berlin                Family   \n",
      "5                               Deja Vu Museum           Exhibitions   \n",
      "6                 Museum in der Kulturbrauerei               History   \n",
      "7                              A TRANS Vitrine                   Art   \n",
      "8                   Theater am Potsdamer Platz      Shows & Musicals   \n",
      "9              Deutsches Technikmuseum - Foyer  Science & Technology   \n",
      "10                                      Zenner                   Art   \n",
      "11                              Passionskirche                  Show   \n",
      "12                              Pergamonmuseum            Achaeology   \n",
      "13                        Galerie Michael Haas               Gallery   \n",
      "\n",
      "                                                 date      Hour  \\\n",
      "0   13/05/2023\\n                          – 02/09/...  08:30 am   \n",
      "1   13/05/2023\\n                          – 02/09/...  09:00 am   \n",
      "2   02/07/2023\\n                          – 23/08/...  09:00 am   \n",
      "3   02/07/2023\\n                          – 23/08/...  09:00 am   \n",
      "4   22/08/2023\\n                          – 07/01/...  09:00 am   \n",
      "5   22/08/2023\\n                          – 07/01/...  09:00 am   \n",
      "6   01/04/2023\\n                          – 31/12/...  09:00 am   \n",
      "7   01/04/2023\\n                          – 31/12/...  09:00 am   \n",
      "8   01/04/2023\\n                          – 31/10/...  09:00 am   \n",
      "9   01/04/2023\\n                          – 31/10/...  09:00 am   \n",
      "10  23/06/2023\\n                          – 31/12/...  09:00 am   \n",
      "11  23/06/2023\\n                          – 31/12/...  09:00 am   \n",
      "12  04/01/2022\\n                          – 31/12/...  09:00 am   \n",
      "13  04/01/2022\\n                          – 31/12/...  09:00 am   \n",
      "\n",
      "                                                 Link  \n",
      "0                https://kati-gausmann.de/einszueins/  \n",
      "1   https://www.sabaa.education/beiprogramm-klima-...  \n",
      "2   https://chamaeleonberlin.com/de/shows/the-mirr...  \n",
      "3                          https://www.ddr-museum.de/  \n",
      "4   https://www.tierpark-berlin.de/de/aktuelles/al...  \n",
      "5                 https://dejavumuseum.de/?source=bde  \n",
      "6   https://www.hdg.de/museum-in-der-kulturbrauere...  \n",
      "7   https://atrans.org/program/a-trans-feat-murat-...  \n",
      "8       https://showslot.com/fackjugoehte/?source=bde  \n",
      "9            https://feverup.com/m/130298/?source=bde  \n",
      "10  http://www.smb.museum/ausstellungen/detail.htm...  \n",
      "11  https://gallerymichaelhaas.com/nevelson-rickey...  \n",
      "12  https://www.bpb.de/veranstaltungen/veranstaltu...  \n",
      "13  https://www.hdg.de/museum-in-der-kulturbrauere...  \n"
     ]
    }
   ],
   "source": [
    "import requests\n",
    "from bs4 import BeautifulSoup\n",
    "import pandas as pd\n",
    "\n",
    "# Replace 'url' with the actual URL you want to scrape\n",
    "url = \"https://www.visitberlin.de/en/event-calendar-berlin\"\n",
    "\n",
    "# Send a GET request to the URL\n",
    "response = requests.get(url)\n",
    "\n",
    "# Parse the HTML content using BeautifulSoup\n",
    "soup = BeautifulSoup(response.content, 'html.parser')\n",
    "\n",
    "# Fetch all elements for title, location, description, date, hour, category, and link\n",
    "titles = soup.select('div.teaser-search__content > h2 > span')\n",
    "locations = soup.select('p.teaser-search__location.me > span.me__content > span:nth-child(1)')\n",
    "categories = soup.select('div.teaser-search__meta > ul > li:nth-child(1) > a')\n",
    "dates = soup.select('p.teaser-search__date > span > span')\n",
    "hours = soup.select('p.teaser-search__time.me > span.me__content')\n",
    "categories = soup.select('div.teaser-search__category > a')\n",
    "links = soup.select('div.teaser-search__meta > p.teaser-search__print-link.teaser-search__print-info')\n",
    "\n",
    "# Ensure all lists have the same length\n",
    "num_events = min(len(titles), len(locations), len(categories), len(dates), len(hours), len(categories), len(links))\n",
    "\n",
    "# Create a list to store dictionaries for each event\n",
    "events_list = []\n",
    "\n",
    "# Loop through each event and extract the information\n",
    "for i in range(num_events):\n",
    "    # Clean up the text in all columns\n",
    "    title = titles[i].get_text().strip() if i < len(titles) else None\n",
    "    location = locations[i].get_text().strip() if i < len(locations) else None\n",
    "    category = categories[i].get_text().strip() if i < len(categories) else None\n",
    "    date = dates[i].get_text().strip() if i < len(dates) else None\n",
    "    hour = hours[i].get_text().strip() if i < len(hours) else None\n",
    "    category = categories[i].get_text().strip() if i < len(categories) else None\n",
    "    link = links[i].get_text().strip() if i < len(links) else None\n",
    "\n",
    "    event = {\n",
    "        'Title': title,\n",
    "        'Location': location,\n",
    "        'Category': category,\n",
    "        'date': date,\n",
    "        'Hour': hour,\n",
    "        'Category': category,\n",
    "        'Link': link\n",
    "    }\n",
    "    events_list.append(event)\n",
    "\n",
    "# Create a DataFrame from the list of dictionaries\n",
    "df = pd.DataFrame(events_list)\n",
    "\n",
    "# Print the DataFrame\n",
    "print(df)"
   ]
  },
  {
   "cell_type": "code",
   "execution_count": 25,
   "metadata": {},
   "outputs": [
    {
     "data": {
      "text/html": [
       "<div>\n",
       "<style scoped>\n",
       "    .dataframe tbody tr th:only-of-type {\n",
       "        vertical-align: middle;\n",
       "    }\n",
       "\n",
       "    .dataframe tbody tr th {\n",
       "        vertical-align: top;\n",
       "    }\n",
       "\n",
       "    .dataframe thead th {\n",
       "        text-align: right;\n",
       "    }\n",
       "</style>\n",
       "<table border=\"1\" class=\"dataframe\">\n",
       "  <thead>\n",
       "    <tr style=\"text-align: right;\">\n",
       "      <th></th>\n",
       "      <th>Title</th>\n",
       "      <th>Location</th>\n",
       "      <th>Category</th>\n",
       "      <th>date</th>\n",
       "      <th>Hour</th>\n",
       "      <th>Link</th>\n",
       "    </tr>\n",
       "  </thead>\n",
       "  <tbody>\n",
       "    <tr>\n",
       "      <th>0</th>\n",
       "      <td>Käthe Kruse</td>\n",
       "      <td>koenigliche Backstube</td>\n",
       "      <td>Art</td>\n",
       "      <td>13/05/2023\\n                          – 02/09/...</td>\n",
       "      <td>08:30 am</td>\n",
       "      <td>https://kati-gausmann.de/einszueins/</td>\n",
       "    </tr>\n",
       "    <tr>\n",
       "      <th>1</th>\n",
       "      <td>Climate Change - Views and Insights from Africa</td>\n",
       "      <td>Heilandskirche</td>\n",
       "      <td>Art</td>\n",
       "      <td>13/05/2023\\n                          – 02/09/...</td>\n",
       "      <td>09:00 am</td>\n",
       "      <td>https://www.sabaa.education/beiprogramm-klima-...</td>\n",
       "    </tr>\n",
       "    <tr>\n",
       "      <th>2</th>\n",
       "      <td>From August at the Chameleon: The Mirror</td>\n",
       "      <td>Chamäleon Theater(in den Hackeschen Höfen)</td>\n",
       "      <td>Show</td>\n",
       "      <td>02/07/2023\\n                          – 23/08/...</td>\n",
       "      <td>09:00 am</td>\n",
       "      <td>https://chamaeleonberlin.com/de/shows/the-mirr...</td>\n",
       "    </tr>\n",
       "    <tr>\n",
       "      <th>3</th>\n",
       "      <td>DDR Museum - A JOURNEY THROUGH TIME IN THE DDR</td>\n",
       "      <td>DDR Museum Berlin</td>\n",
       "      <td>History</td>\n",
       "      <td>02/07/2023\\n                          – 23/08/...</td>\n",
       "      <td>09:00 am</td>\n",
       "      <td>https://www.ddr-museum.de/</td>\n",
       "    </tr>\n",
       "    <tr>\n",
       "      <th>4</th>\n",
       "      <td>DINOWORLD BERLIN</td>\n",
       "      <td>Tierpark Berlin</td>\n",
       "      <td>Family</td>\n",
       "      <td>22/08/2023\\n                          – 07/01/...</td>\n",
       "      <td>09:00 am</td>\n",
       "      <td>https://www.tierpark-berlin.de/de/aktuelles/al...</td>\n",
       "    </tr>\n",
       "    <tr>\n",
       "      <th>5</th>\n",
       "      <td>DeJa Vu Museum Berlin</td>\n",
       "      <td>Deja Vu Museum</td>\n",
       "      <td>Exhibitions</td>\n",
       "      <td>22/08/2023\\n                          – 07/01/...</td>\n",
       "      <td>09:00 am</td>\n",
       "      <td>https://dejavumuseum.de/?source=bde</td>\n",
       "    </tr>\n",
       "    <tr>\n",
       "      <th>6</th>\n",
       "      <td>Everyday life in the GDR</td>\n",
       "      <td>Museum in der Kulturbrauerei</td>\n",
       "      <td>History</td>\n",
       "      <td>01/04/2023\\n                          – 31/12/...</td>\n",
       "      <td>09:00 am</td>\n",
       "      <td>https://www.hdg.de/museum-in-der-kulturbrauere...</td>\n",
       "    </tr>\n",
       "    <tr>\n",
       "      <th>7</th>\n",
       "      <td>GHOSTS WITH MURAT HASCHU: JOANNA STINGRAY SAYS...</td>\n",
       "      <td>A TRANS Vitrine</td>\n",
       "      <td>Art</td>\n",
       "      <td>01/04/2023\\n                          – 31/12/...</td>\n",
       "      <td>09:00 am</td>\n",
       "      <td>https://atrans.org/program/a-trans-feat-murat-...</td>\n",
       "    </tr>\n",
       "    <tr>\n",
       "      <th>8</th>\n",
       "      <td>Fack Ju Göhte - The Musical Comedy</td>\n",
       "      <td>Theater am Potsdamer Platz</td>\n",
       "      <td>Shows &amp; Musicals</td>\n",
       "      <td>01/04/2023\\n                          – 31/10/...</td>\n",
       "      <td>09:00 am</td>\n",
       "      <td>https://showslot.com/fackjugoehte/?source=bde</td>\n",
       "    </tr>\n",
       "    <tr>\n",
       "      <th>9</th>\n",
       "      <td>Historical workshop meets robot at the German ...</td>\n",
       "      <td>Deutsches Technikmuseum - Foyer</td>\n",
       "      <td>Science &amp; Technology</td>\n",
       "      <td>01/04/2023\\n                          – 31/10/...</td>\n",
       "      <td>09:00 am</td>\n",
       "      <td>https://feverup.com/m/130298/?source=bde</td>\n",
       "    </tr>\n",
       "    <tr>\n",
       "      <th>10</th>\n",
       "      <td>HORIZON: Installation for a building</td>\n",
       "      <td>Zenner</td>\n",
       "      <td>Art</td>\n",
       "      <td>23/06/2023\\n                          – 31/12/...</td>\n",
       "      <td>09:00 am</td>\n",
       "      <td>http://www.smb.museum/ausstellungen/detail.htm...</td>\n",
       "    </tr>\n",
       "    <tr>\n",
       "      <th>11</th>\n",
       "      <td>Genesis - An Immersive Light Show</td>\n",
       "      <td>Passionskirche</td>\n",
       "      <td>Show</td>\n",
       "      <td>23/06/2023\\n                          – 31/12/...</td>\n",
       "      <td>09:00 am</td>\n",
       "      <td>https://gallerymichaelhaas.com/nevelson-rickey...</td>\n",
       "    </tr>\n",
       "    <tr>\n",
       "      <th>12</th>\n",
       "      <td>Liam Gillick</td>\n",
       "      <td>Pergamonmuseum</td>\n",
       "      <td>Achaeology</td>\n",
       "      <td>04/01/2022\\n                          – 31/12/...</td>\n",
       "      <td>09:00 am</td>\n",
       "      <td>https://www.bpb.de/veranstaltungen/veranstaltu...</td>\n",
       "    </tr>\n",
       "    <tr>\n",
       "      <th>13</th>\n",
       "      <td>LOUISE NEVELSON &amp; GEORGE RICKEY</td>\n",
       "      <td>Galerie Michael Haas</td>\n",
       "      <td>Gallery</td>\n",
       "      <td>04/01/2022\\n                          – 31/12/...</td>\n",
       "      <td>09:00 am</td>\n",
       "      <td>https://www.hdg.de/museum-in-der-kulturbrauere...</td>\n",
       "    </tr>\n",
       "  </tbody>\n",
       "</table>\n",
       "</div>"
      ],
      "text/plain": [
       "                                                Title  \\\n",
       "0                                         Käthe Kruse   \n",
       "1     Climate Change - Views and Insights from Africa   \n",
       "2            From August at the Chameleon: The Mirror   \n",
       "3      DDR Museum - A JOURNEY THROUGH TIME IN THE DDR   \n",
       "4                                    DINOWORLD BERLIN   \n",
       "5                               DeJa Vu Museum Berlin   \n",
       "6                            Everyday life in the GDR   \n",
       "7   GHOSTS WITH MURAT HASCHU: JOANNA STINGRAY SAYS...   \n",
       "8                  Fack Ju Göhte - The Musical Comedy   \n",
       "9   Historical workshop meets robot at the German ...   \n",
       "10               HORIZON: Installation for a building   \n",
       "11                  Genesis - An Immersive Light Show   \n",
       "12                                       Liam Gillick   \n",
       "13                    LOUISE NEVELSON & GEORGE RICKEY   \n",
       "\n",
       "                                      Location              Category  \\\n",
       "0                        koenigliche Backstube                   Art   \n",
       "1                               Heilandskirche                   Art   \n",
       "2   Chamäleon Theater(in den Hackeschen Höfen)                  Show   \n",
       "3                            DDR Museum Berlin               History   \n",
       "4                              Tierpark Berlin                Family   \n",
       "5                               Deja Vu Museum           Exhibitions   \n",
       "6                 Museum in der Kulturbrauerei               History   \n",
       "7                              A TRANS Vitrine                   Art   \n",
       "8                   Theater am Potsdamer Platz      Shows & Musicals   \n",
       "9              Deutsches Technikmuseum - Foyer  Science & Technology   \n",
       "10                                      Zenner                   Art   \n",
       "11                              Passionskirche                  Show   \n",
       "12                              Pergamonmuseum            Achaeology   \n",
       "13                        Galerie Michael Haas               Gallery   \n",
       "\n",
       "                                                 date      Hour  \\\n",
       "0   13/05/2023\\n                          – 02/09/...  08:30 am   \n",
       "1   13/05/2023\\n                          – 02/09/...  09:00 am   \n",
       "2   02/07/2023\\n                          – 23/08/...  09:00 am   \n",
       "3   02/07/2023\\n                          – 23/08/...  09:00 am   \n",
       "4   22/08/2023\\n                          – 07/01/...  09:00 am   \n",
       "5   22/08/2023\\n                          – 07/01/...  09:00 am   \n",
       "6   01/04/2023\\n                          – 31/12/...  09:00 am   \n",
       "7   01/04/2023\\n                          – 31/12/...  09:00 am   \n",
       "8   01/04/2023\\n                          – 31/10/...  09:00 am   \n",
       "9   01/04/2023\\n                          – 31/10/...  09:00 am   \n",
       "10  23/06/2023\\n                          – 31/12/...  09:00 am   \n",
       "11  23/06/2023\\n                          – 31/12/...  09:00 am   \n",
       "12  04/01/2022\\n                          – 31/12/...  09:00 am   \n",
       "13  04/01/2022\\n                          – 31/12/...  09:00 am   \n",
       "\n",
       "                                                 Link  \n",
       "0                https://kati-gausmann.de/einszueins/  \n",
       "1   https://www.sabaa.education/beiprogramm-klima-...  \n",
       "2   https://chamaeleonberlin.com/de/shows/the-mirr...  \n",
       "3                          https://www.ddr-museum.de/  \n",
       "4   https://www.tierpark-berlin.de/de/aktuelles/al...  \n",
       "5                 https://dejavumuseum.de/?source=bde  \n",
       "6   https://www.hdg.de/museum-in-der-kulturbrauere...  \n",
       "7   https://atrans.org/program/a-trans-feat-murat-...  \n",
       "8       https://showslot.com/fackjugoehte/?source=bde  \n",
       "9            https://feverup.com/m/130298/?source=bde  \n",
       "10  http://www.smb.museum/ausstellungen/detail.htm...  \n",
       "11  https://gallerymichaelhaas.com/nevelson-rickey...  \n",
       "12  https://www.bpb.de/veranstaltungen/veranstaltu...  \n",
       "13  https://www.hdg.de/museum-in-der-kulturbrauere...  "
      ]
     },
     "execution_count": 25,
     "metadata": {},
     "output_type": "execute_result"
    }
   ],
   "source": [
    "df"
   ]
  },
  {
   "cell_type": "code",
   "execution_count": null,
   "metadata": {},
   "outputs": [],
   "source": []
  }
 ],
 "metadata": {
  "kernelspec": {
   "display_name": "Python 3",
   "language": "python",
   "name": "python3"
  },
  "language_info": {
   "codemirror_mode": {
    "name": "ipython",
    "version": 3
   },
   "file_extension": ".py",
   "mimetype": "text/x-python",
   "name": "python",
   "nbconvert_exporter": "python",
   "pygments_lexer": "ipython3",
   "version": "3.10.11"
  }
 },
 "nbformat": 4,
 "nbformat_minor": 4
}
