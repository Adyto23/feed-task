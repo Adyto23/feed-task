{
 "cells": [
  {
   "cell_type": "code",
   "execution_count": 2,
   "metadata": {},
   "outputs": [],
   "source": [
    "import requests\n",
    "from bs4 import BeautifulSoup\n",
    "import pandas as pd\n",
    "import numpy as np"
   ]
  },
  {
   "cell_type": "code",
   "execution_count": 1,
   "metadata": {},
   "outputs": [
    {
     "name": "stdout",
     "output_type": "stream",
     "text": [
      "Requirement already satisfied: pandas in c:\\users\\adyto\\appdata\\local\\packages\\pythonsoftwarefoundation.python.3.10_qbz5n2kfra8p0\\localcache\\local-packages\\python310\\site-packages (2.0.3)\n",
      "Requirement already satisfied: python-dateutil>=2.8.2 in c:\\users\\adyto\\appdata\\local\\packages\\pythonsoftwarefoundation.python.3.10_qbz5n2kfra8p0\\localcache\\local-packages\\python310\\site-packages (from pandas) (2.8.2)\n",
      "Requirement already satisfied: numpy>=1.21.0 in c:\\users\\adyto\\appdata\\local\\packages\\pythonsoftwarefoundation.python.3.10_qbz5n2kfra8p0\\localcache\\local-packages\\python310\\site-packages (from pandas) (1.25.2)\n",
      "Requirement already satisfied: pytz>=2020.1 in c:\\users\\adyto\\appdata\\local\\packages\\pythonsoftwarefoundation.python.3.10_qbz5n2kfra8p0\\localcache\\local-packages\\python310\\site-packages (from pandas) (2023.3)\n",
      "Requirement already satisfied: tzdata>=2022.1 in c:\\users\\adyto\\appdata\\local\\packages\\pythonsoftwarefoundation.python.3.10_qbz5n2kfra8p0\\localcache\\local-packages\\python310\\site-packages (from pandas) (2023.3)\n",
      "Requirement already satisfied: six>=1.5 in c:\\users\\adyto\\appdata\\local\\packages\\pythonsoftwarefoundation.python.3.10_qbz5n2kfra8p0\\localcache\\local-packages\\python310\\site-packages (from python-dateutil>=2.8.2->pandas) (1.16.0)\n",
      "Note: you may need to restart the kernel to use updated packages.\n"
     ]
    },
    {
     "name": "stderr",
     "output_type": "stream",
     "text": [
      "\n",
      "[notice] A new release of pip is available: 23.0.1 -> 23.2.1\n",
      "[notice] To update, run: C:\\Users\\adyto\\AppData\\Local\\Microsoft\\WindowsApps\\PythonSoftwareFoundation.Python.3.10_qbz5n2kfra8p0\\python.exe -m pip install --upgrade pip\n"
     ]
    }
   ],
   "source": [
    "pip install pandas\n"
   ]
  },
  {
   "cell_type": "code",
   "execution_count": 35,
   "metadata": {},
   "outputs": [],
   "source": [
    "url = \"https://www.boell.de/de/veranstaltungen\""
   ]
  },
  {
   "cell_type": "code",
   "execution_count": 36,
   "metadata": {},
   "outputs": [
    {
     "data": {
      "text/plain": [
       "200"
      ]
     },
     "execution_count": 36,
     "metadata": {},
     "output_type": "execute_result"
    }
   ],
   "source": [
    "response = requests.get(url)\n",
    "response.status_code"
   ]
  },
  {
   "cell_type": "code",
   "execution_count": 37,
   "metadata": {},
   "outputs": [],
   "source": [
    "soup = BeautifulSoup(response.content, \"html.parser\")\n",
    "\n",
    "# title , location , date , hour and link"
   ]
  },
  {
   "cell_type": "code",
   "execution_count": 19,
   "metadata": {},
   "outputs": [
    {
     "data": {
      "text/plain": [
       "'\\n                                    Dienstag, 22. August 2023\\n                                '"
      ]
     },
     "execution_count": 19,
     "metadata": {},
     "output_type": "execute_result"
    }
   ],
   "source": [
    "soup.select('div > span.remote-event__date')[0].get_text()\n",
    "\n",
    "## date "
   ]
  },
  {
   "cell_type": "code",
   "execution_count": 71,
   "metadata": {},
   "outputs": [
    {
     "data": {
      "text/plain": [
       "'\\n        Buchvorstellung\\n    '"
      ]
     },
     "execution_count": 71,
     "metadata": {},
     "output_type": "execute_result"
    }
   ],
   "source": [
    "##  type #block-theodor-content > article > div > div > div > div > div.grid-slots-wrapper > div > div > div.grid-box.grid-box-last.grid-box-boellcalendar > div > div > div:nth-child(1) > div.remote-event > div.remote-event__rightside > a > div > span.field--event_type\n",
    "\n",
    "soup.select('span.field--event_type')[0].get_text()\n",
    "\n",
    "## type in german \n",
    "\n"
   ]
  },
  {
   "cell_type": "code",
   "execution_count": 72,
   "metadata": {},
   "outputs": [
    {
     "data": {
      "text/plain": [
       "'Schlüsselorte'"
      ]
     },
     "execution_count": 72,
     "metadata": {},
     "output_type": "execute_result"
    }
   ],
   "source": [
    "soup.select('div.remote-event__rightside > a > h1')[0].get_text()\n",
    "\n",
    "## title in german "
   ]
  },
  {
   "cell_type": "code",
   "execution_count": 73,
   "metadata": {},
   "outputs": [
    {
     "data": {
      "text/plain": [
       "'\\n        Eine literarische Annäherung an urbane Räume in Afrika und Europa\\n    '"
      ]
     },
     "execution_count": 73,
     "metadata": {},
     "output_type": "execute_result"
    }
   ],
   "source": [
    "soup.select('div.remote-event__rightside > div > div')[0].get_text()\n",
    "\n",
    "## description\n"
   ]
  },
  {
   "cell_type": "code",
   "execution_count": 27,
   "metadata": {},
   "outputs": [
    {
     "data": {
      "text/plain": [
       "'https://calendar.boell.de/de/event/schluesselorte'"
      ]
     },
     "execution_count": 27,
     "metadata": {},
     "output_type": "execute_result"
    }
   ],
   "source": [
    "soup.select('div.remote-event__rightside > a')[0]['href']\n",
    "\n",
    "## link "
   ]
  },
  {
   "cell_type": "code",
   "execution_count": null,
   "metadata": {},
   "outputs": [],
   "source": []
  },
  {
   "cell_type": "code",
   "execution_count": 51,
   "metadata": {},
   "outputs": [
    {
     "data": {
      "text/plain": [
       "[]"
      ]
     },
     "execution_count": 51,
     "metadata": {},
     "output_type": "execute_result"
    }
   ],
   "source": [
    "title"
   ]
  },
  {
   "cell_type": "code",
   "execution_count": 67,
   "metadata": {},
   "outputs": [
    {
     "name": "stdout",
     "output_type": "stream",
     "text": [
      "\n",
      "        Buchvorstellung\n",
      "    \n",
      "\n",
      "        Buchvorstellung\n",
      "    \n",
      "\n",
      "        Tagung\n",
      "    \n",
      "\n",
      "        Online-Seminar\n",
      "    \n",
      "\n",
      "        Veranstaltung\n",
      "    \n",
      "\n",
      "        Bildungsreise\n",
      "    \n",
      "\n",
      "        Konferenz\n",
      "    \n",
      "\n",
      "        Diskussionsreihe\n",
      "    \n",
      "\n",
      "        Film und Gespräch\n",
      "    \n",
      "\n",
      "        Online-Veranstaltung\n",
      "    \n",
      "\n",
      "        Fachtagung\n",
      "    \n",
      "\n",
      "        Lesung und Gespräch\n",
      "    \n",
      "\n",
      "        Lesung und Gespräch\n",
      "    \n",
      "\n",
      "        Online-Seminar\n",
      "    \n",
      "\n",
      "        Tagung\n",
      "    \n",
      "\n",
      "        Online-Seminar\n",
      "    \n"
     ]
    }
   ],
   "source": [
    "from bs4 import BeautifulSoup\n",
    "\n",
    "# Assuming you have the HTML content in a variable named 'html_content'\n",
    "# Replace 'html_content' with the actual HTML content from your web page\n",
    "\n",
    "# Parse the HTML content using BeautifulSoup\n",
    "soup = BeautifulSoup(html_content, 'html.parser')\n",
    "\n",
    "# Fetch all elements matching the given CSS selector\n",
    "elements = soup.select('div > span.field--event_type')\n",
    "\n",
    "# Extract and print the text from each element\n",
    "for element in elements:\n",
    "    print(element.get_text())\n"
   ]
  },
  {
   "cell_type": "code",
   "execution_count": 68,
   "metadata": {},
   "outputs": [
    {
     "name": "stdout",
     "output_type": "stream",
     "text": [
      "\n",
      "                                    Dienstag, 22. August 2023\n",
      "                                \n",
      "\n",
      "                                    Mittwoch, 06. September 2023\n",
      "                                \n",
      "\n",
      "                                    Donnerstag, 07. September 2023 – Samstag, 09. September 2023\n",
      "                                \n",
      "\n",
      "                                    Dienstag, 12. September 2023\n",
      "                                \n",
      "\n",
      "                                    Mittwoch, 13. September 2023\n",
      "                                \n",
      "\n",
      "                                    Donnerstag, 14. September 2023 – Sonntag, 17. September 2023\n",
      "                                \n",
      "\n",
      "                                    Montag, 18. September 2023\n",
      "                                \n",
      "\n",
      "                                    Donnerstag, 21. September 2023\n",
      "                                \n",
      "\n",
      "                                    Donnerstag, 21. September 2023\n",
      "                                \n",
      "\n",
      "                                    Donnerstag, 28. September 2023\n",
      "                                \n",
      "\n",
      "                                    Donnerstag, 05. Oktober 2023 – Freitag, 06. Oktober 2023\n",
      "                                \n",
      "\n",
      "                                    Dienstag, 10. Oktober 2023\n",
      "                                \n",
      "\n",
      "                                    Donnerstag, 12. Oktober 2023\n",
      "                                \n",
      "\n",
      "                                    Dienstag, 17. Oktober 2023\n",
      "                                \n",
      "\n",
      "                                    Freitag, 20. Oktober 2023 – Sonntag, 22. Oktober 2023\n",
      "                                \n",
      "\n",
      "                                    Dienstag, 07. November 2023\n",
      "                                \n"
     ]
    }
   ],
   "source": [
    "from bs4 import BeautifulSoup\n",
    "\n",
    "# Assuming you have the HTML content in a variable named 'html_content'\n",
    "# Replace 'html_content' with the actual HTML content from your web page\n",
    "\n",
    "# Parse the HTML content using BeautifulSoup\n",
    "soup = BeautifulSoup(html_content, 'html.parser')\n",
    "\n",
    "# Fetch all elements matching the given CSS selector\n",
    "elements = soup.select('div > span.remote-event__date')\n",
    "\n",
    "# Extract and print the text from each element\n",
    "for element in elements:\n",
    "    print(element.get_text())\n"
   ]
  },
  {
   "cell_type": "code",
   "execution_count": 79,
   "metadata": {},
   "outputs": [
    {
     "name": "stdout",
     "output_type": "stream",
     "text": [
      "                                                 Date  \\\n",
      "0   \\n                                    Dienstag...   \n",
      "1   \\n                                    Mittwoch...   \n",
      "2   \\n                                    Donnerst...   \n",
      "3   \\n                                    Dienstag...   \n",
      "4   \\n                                    Mittwoch...   \n",
      "5   \\n                                    Donnerst...   \n",
      "6   \\n                                    Montag, ...   \n",
      "7   \\n                                    Donnerst...   \n",
      "8   \\n                                    Donnerst...   \n",
      "9   \\n                                    Donnerst...   \n",
      "10  \\n                                    Donnerst...   \n",
      "\n",
      "                                                Title  \\\n",
      "0                                       Schlüsselorte   \n",
      "1   \"Jene. Homosexuelle während des Zweiten Weltkr...   \n",
      "2   Zentralamerika im Fokus: Einsatz für Umwelt, D...   \n",
      "3                     Holen wir uns das Netz zurück!    \n",
      "4   „We Are The Price“ – Künstlerische Perspektive...   \n",
      "5   Regionalreise der Freundinnen und Freunde 2023...   \n",
      "6                  Gesellschaftsprojekt Energiewende    \n",
      "7   Beziehung Mensch - Natur: Wie kann der Schutz ...   \n",
      "8                            Sieben Winter in Teheran   \n",
      "9   Green Cities 2035: Strategien gegen Flächenver...   \n",
      "10                                Schulleitungstagung   \n",
      "\n",
      "                                          Description  \\\n",
      "0   \\n        Eine literarische Annäherung an urba...   \n",
      "1   \\n        Buchvorstellung und Gespräch mit Joa...   \n",
      "2   \\n        Tagung des Runden Tisches Zentralame...   \n",
      "3   \\n        Online-Kurzworkshop zum Umgang mit H...   \n",
      "4   \\n        Präsentation von Arbeiten, Begegnung...   \n",
      "5                \\n        Volle Kraft voraus! \\n       \n",
      "6   \\n        Leinen los! Nachhaltige Personalentw...   \n",
      "7                           \\n        Eröffnung\\n       \n",
      "8           \\n        Film, Lesungen, Gespräche\\n       \n",
      "9   \\n        Online-Kurzworkshop zum Umgang mit H...   \n",
      "10  \\n        Online-Kurzworkshop zum Umgang mit H...   \n",
      "\n",
      "                              Event_Type  \\\n",
      "0        \\n        Buchvorstellung\\n       \n",
      "1        \\n        Buchvorstellung\\n       \n",
      "2                 \\n        Tagung\\n       \n",
      "3         \\n        Online-Seminar\\n       \n",
      "4          \\n        Veranstaltung\\n       \n",
      "5          \\n        Bildungsreise\\n       \n",
      "6              \\n        Konferenz\\n       \n",
      "7       \\n        Diskussionsreihe\\n       \n",
      "8      \\n        Film und Gespräch\\n       \n",
      "9   \\n        Online-Veranstaltung\\n       \n",
      "10            \\n        Fachtagung\\n       \n",
      "\n",
      "                                                 Link  \n",
      "0   https://calendar.boell.de/de/event/schluesselorte  \n",
      "1   https://calendar.boell.de/de/event/jene-homose...  \n",
      "2   https://calendar.boell.de/de/event/zentralamer...  \n",
      "3   https://calendar.boell.de/de/event/holen-wir-u...  \n",
      "4   https://calendar.boell.de/de/event/we-are-pric...  \n",
      "5   https://calendar.boell.de/de/event/regionalrei...  \n",
      "6   https://calendar.boell.de/de/event/gesellschaf...  \n",
      "7   https://calendar.boell.de/de/event/beziehung-m...  \n",
      "8   https://calendar.boell.de/de/event/sieben-wint...  \n",
      "9   https://calendar.boell.de/de/event/green-citie...  \n",
      "10  https://calendar.boell.de/de/event/schulleitun...  \n"
     ]
    }
   ],
   "source": [
    "import pandas as pd\n",
    "from bs4 import BeautifulSoup\n",
    "import requests\n",
    "\n",
    "# Replace 'your_url_here' with the actual URL of the page containing events\n",
    "url = \"https://www.boell.de/de/veranstaltungen\"\n",
    "\n",
    "# Send a GET request to the URL\n",
    "response = requests.get(url)\n",
    "\n",
    "# Parse the HTML content using BeautifulSoup\n",
    "soup = BeautifulSoup(response.content, 'html.parser')\n",
    "\n",
    "# Fetch all elements for date, title, description, type, and link\n",
    "dates = soup.select('div > span.remote-event__date')\n",
    "titles = soup.select('div.remote-event__rightside > a > h1')\n",
    "descriptions = soup.select('div.remote-event__rightside > div > div')\n",
    "event_types = soup.select('span.field--event_type')\n",
    "links = soup.select('div.remote-event__rightside > a')\n",
    "\n",
    "# Ensure all lists have the same length\n",
    "num_events = min(len(dates), len(titles), len(descriptions), len(event_types), len(links))\n",
    "\n",
    "# Create a list to store dictionaries for each event\n",
    "events_list = []\n",
    "\n",
    "# Loop through each event and extract the information\n",
    "for i in range(num_events):\n",
    "    event = {\n",
    "        'Date': dates[i].get_text(),\n",
    "        'Title': titles[i].get_text(),\n",
    "        'Description': descriptions[i].get_text() if i < len(descriptions) else None,\n",
    "        'Event_Type': event_types[i].get_text(),\n",
    "        'Link': links[i]['href']\n",
    "    }\n",
    "    events_list.append(event)\n",
    "\n",
    "# Create a DataFrame from the list of dictionaries\n",
    "df = pd.DataFrame(events_list)\n",
    "\n",
    "# Print the DataFrame\n",
    "print(df)\n",
    "\n",
    "\n",
    "\n"
   ]
  },
  {
   "cell_type": "code",
   "execution_count": 82,
   "metadata": {},
   "outputs": [
    {
     "data": {
      "text/html": [
       "<div>\n",
       "<style scoped>\n",
       "    .dataframe tbody tr th:only-of-type {\n",
       "        vertical-align: middle;\n",
       "    }\n",
       "\n",
       "    .dataframe tbody tr th {\n",
       "        vertical-align: top;\n",
       "    }\n",
       "\n",
       "    .dataframe thead th {\n",
       "        text-align: right;\n",
       "    }\n",
       "</style>\n",
       "<table border=\"1\" class=\"dataframe\">\n",
       "  <thead>\n",
       "    <tr style=\"text-align: right;\">\n",
       "      <th></th>\n",
       "      <th>Date</th>\n",
       "      <th>Title</th>\n",
       "      <th>Description</th>\n",
       "      <th>Event_Type</th>\n",
       "      <th>Link</th>\n",
       "    </tr>\n",
       "  </thead>\n",
       "  <tbody>\n",
       "    <tr>\n",
       "      <th>0</th>\n",
       "      <td>\\n                                    Dienstag...</td>\n",
       "      <td>Schlüsselorte</td>\n",
       "      <td>\\n        Eine literarische Annäherung an urba...</td>\n",
       "      <td>\\n        Buchvorstellung\\n</td>\n",
       "      <td>https://calendar.boell.de/de/event/schluesselorte</td>\n",
       "    </tr>\n",
       "    <tr>\n",
       "      <th>1</th>\n",
       "      <td>\\n                                    Mittwoch...</td>\n",
       "      <td>\"Jene. Homosexuelle während des Zweiten Weltkr...</td>\n",
       "      <td>\\n        Buchvorstellung und Gespräch mit Joa...</td>\n",
       "      <td>\\n        Buchvorstellung\\n</td>\n",
       "      <td>https://calendar.boell.de/de/event/jene-homose...</td>\n",
       "    </tr>\n",
       "    <tr>\n",
       "      <th>2</th>\n",
       "      <td>\\n                                    Donnerst...</td>\n",
       "      <td>Zentralamerika im Fokus: Einsatz für Umwelt, D...</td>\n",
       "      <td>\\n        Tagung des Runden Tisches Zentralame...</td>\n",
       "      <td>\\n        Tagung\\n</td>\n",
       "      <td>https://calendar.boell.de/de/event/zentralamer...</td>\n",
       "    </tr>\n",
       "    <tr>\n",
       "      <th>3</th>\n",
       "      <td>\\n                                    Dienstag...</td>\n",
       "      <td>Holen wir uns das Netz zurück!</td>\n",
       "      <td>\\n        Online-Kurzworkshop zum Umgang mit H...</td>\n",
       "      <td>\\n        Online-Seminar\\n</td>\n",
       "      <td>https://calendar.boell.de/de/event/holen-wir-u...</td>\n",
       "    </tr>\n",
       "    <tr>\n",
       "      <th>4</th>\n",
       "      <td>\\n                                    Mittwoch...</td>\n",
       "      <td>„We Are The Price“ – Künstlerische Perspektive...</td>\n",
       "      <td>\\n        Präsentation von Arbeiten, Begegnung...</td>\n",
       "      <td>\\n        Veranstaltung\\n</td>\n",
       "      <td>https://calendar.boell.de/de/event/we-are-pric...</td>\n",
       "    </tr>\n",
       "    <tr>\n",
       "      <th>5</th>\n",
       "      <td>\\n                                    Donnerst...</td>\n",
       "      <td>Regionalreise der Freundinnen und Freunde 2023...</td>\n",
       "      <td>\\n        Volle Kraft voraus! \\n</td>\n",
       "      <td>\\n        Bildungsreise\\n</td>\n",
       "      <td>https://calendar.boell.de/de/event/regionalrei...</td>\n",
       "    </tr>\n",
       "    <tr>\n",
       "      <th>6</th>\n",
       "      <td>\\n                                    Montag, ...</td>\n",
       "      <td>Gesellschaftsprojekt Energiewende</td>\n",
       "      <td>\\n        Leinen los! Nachhaltige Personalentw...</td>\n",
       "      <td>\\n        Konferenz\\n</td>\n",
       "      <td>https://calendar.boell.de/de/event/gesellschaf...</td>\n",
       "    </tr>\n",
       "    <tr>\n",
       "      <th>7</th>\n",
       "      <td>\\n                                    Donnerst...</td>\n",
       "      <td>Beziehung Mensch - Natur: Wie kann der Schutz ...</td>\n",
       "      <td>\\n        Eröffnung\\n</td>\n",
       "      <td>\\n        Diskussionsreihe\\n</td>\n",
       "      <td>https://calendar.boell.de/de/event/beziehung-m...</td>\n",
       "    </tr>\n",
       "    <tr>\n",
       "      <th>8</th>\n",
       "      <td>\\n                                    Donnerst...</td>\n",
       "      <td>Sieben Winter in Teheran</td>\n",
       "      <td>\\n        Film, Lesungen, Gespräche\\n</td>\n",
       "      <td>\\n        Film und Gespräch\\n</td>\n",
       "      <td>https://calendar.boell.de/de/event/sieben-wint...</td>\n",
       "    </tr>\n",
       "    <tr>\n",
       "      <th>9</th>\n",
       "      <td>\\n                                    Donnerst...</td>\n",
       "      <td>Green Cities 2035: Strategien gegen Flächenver...</td>\n",
       "      <td>\\n        Online-Kurzworkshop zum Umgang mit H...</td>\n",
       "      <td>\\n        Online-Veranstaltung\\n</td>\n",
       "      <td>https://calendar.boell.de/de/event/green-citie...</td>\n",
       "    </tr>\n",
       "    <tr>\n",
       "      <th>10</th>\n",
       "      <td>\\n                                    Donnerst...</td>\n",
       "      <td>Schulleitungstagung</td>\n",
       "      <td>\\n        Online-Kurzworkshop zum Umgang mit H...</td>\n",
       "      <td>\\n        Fachtagung\\n</td>\n",
       "      <td>https://calendar.boell.de/de/event/schulleitun...</td>\n",
       "    </tr>\n",
       "  </tbody>\n",
       "</table>\n",
       "</div>"
      ],
      "text/plain": [
       "                                                 Date  \\\n",
       "0   \\n                                    Dienstag...   \n",
       "1   \\n                                    Mittwoch...   \n",
       "2   \\n                                    Donnerst...   \n",
       "3   \\n                                    Dienstag...   \n",
       "4   \\n                                    Mittwoch...   \n",
       "5   \\n                                    Donnerst...   \n",
       "6   \\n                                    Montag, ...   \n",
       "7   \\n                                    Donnerst...   \n",
       "8   \\n                                    Donnerst...   \n",
       "9   \\n                                    Donnerst...   \n",
       "10  \\n                                    Donnerst...   \n",
       "\n",
       "                                                Title  \\\n",
       "0                                       Schlüsselorte   \n",
       "1   \"Jene. Homosexuelle während des Zweiten Weltkr...   \n",
       "2   Zentralamerika im Fokus: Einsatz für Umwelt, D...   \n",
       "3                     Holen wir uns das Netz zurück!    \n",
       "4   „We Are The Price“ – Künstlerische Perspektive...   \n",
       "5   Regionalreise der Freundinnen und Freunde 2023...   \n",
       "6                  Gesellschaftsprojekt Energiewende    \n",
       "7   Beziehung Mensch - Natur: Wie kann der Schutz ...   \n",
       "8                            Sieben Winter in Teheran   \n",
       "9   Green Cities 2035: Strategien gegen Flächenver...   \n",
       "10                                Schulleitungstagung   \n",
       "\n",
       "                                          Description  \\\n",
       "0   \\n        Eine literarische Annäherung an urba...   \n",
       "1   \\n        Buchvorstellung und Gespräch mit Joa...   \n",
       "2   \\n        Tagung des Runden Tisches Zentralame...   \n",
       "3   \\n        Online-Kurzworkshop zum Umgang mit H...   \n",
       "4   \\n        Präsentation von Arbeiten, Begegnung...   \n",
       "5                \\n        Volle Kraft voraus! \\n       \n",
       "6   \\n        Leinen los! Nachhaltige Personalentw...   \n",
       "7                           \\n        Eröffnung\\n       \n",
       "8           \\n        Film, Lesungen, Gespräche\\n       \n",
       "9   \\n        Online-Kurzworkshop zum Umgang mit H...   \n",
       "10  \\n        Online-Kurzworkshop zum Umgang mit H...   \n",
       "\n",
       "                              Event_Type  \\\n",
       "0        \\n        Buchvorstellung\\n       \n",
       "1        \\n        Buchvorstellung\\n       \n",
       "2                 \\n        Tagung\\n       \n",
       "3         \\n        Online-Seminar\\n       \n",
       "4          \\n        Veranstaltung\\n       \n",
       "5          \\n        Bildungsreise\\n       \n",
       "6              \\n        Konferenz\\n       \n",
       "7       \\n        Diskussionsreihe\\n       \n",
       "8      \\n        Film und Gespräch\\n       \n",
       "9   \\n        Online-Veranstaltung\\n       \n",
       "10            \\n        Fachtagung\\n       \n",
       "\n",
       "                                                 Link  \n",
       "0   https://calendar.boell.de/de/event/schluesselorte  \n",
       "1   https://calendar.boell.de/de/event/jene-homose...  \n",
       "2   https://calendar.boell.de/de/event/zentralamer...  \n",
       "3   https://calendar.boell.de/de/event/holen-wir-u...  \n",
       "4   https://calendar.boell.de/de/event/we-are-pric...  \n",
       "5   https://calendar.boell.de/de/event/regionalrei...  \n",
       "6   https://calendar.boell.de/de/event/gesellschaf...  \n",
       "7   https://calendar.boell.de/de/event/beziehung-m...  \n",
       "8   https://calendar.boell.de/de/event/sieben-wint...  \n",
       "9   https://calendar.boell.de/de/event/green-citie...  \n",
       "10  https://calendar.boell.de/de/event/schulleitun...  "
      ]
     },
     "execution_count": 82,
     "metadata": {},
     "output_type": "execute_result"
    }
   ],
   "source": [
    "df"
   ]
  }
 ],
 "metadata": {
  "kernelspec": {
   "display_name": "Python 3",
   "language": "python",
   "name": "python3"
  },
  "language_info": {
   "codemirror_mode": {
    "name": "ipython",
    "version": 3
   },
   "file_extension": ".py",
   "mimetype": "text/x-python",
   "name": "python",
   "nbconvert_exporter": "python",
   "pygments_lexer": "ipython3",
   "version": "3.10.11"
  }
 },
 "nbformat": 4,
 "nbformat_minor": 4
}
